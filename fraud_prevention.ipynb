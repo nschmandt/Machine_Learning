{
 "cells": [
  {
   "cell_type": "code",
   "execution_count": 1,
   "metadata": {
    "collapsed": true
   },
   "outputs": [],
   "source": [
    "import os\n",
    "import pandas as pd\n",
    "import numpy as np\n",
    "import sklearn\n",
    "import sklearn.preprocessing\n",
    "import sklearn.model_selection\n",
    "from sklearn.linear_model import LogisticRegression\n",
    "from sklearn.ensemble import RandomForestClassifier\n",
    "import matplotlib.pyplot as plt"
   ]
  },
  {
   "cell_type": "code",
   "execution_count": 3,
   "metadata": {
    "collapsed": true
   },
   "outputs": [],
   "source": [
    "#load the data\n",
    "fraud=pd.read_csv('Fraud_Data.csv')\n",
    "country_ip=pd.read_csv('IpAddress_to_Country.csv')"
   ]
  },
  {
   "cell_type": "code",
   "execution_count": 4,
   "metadata": {
    "collapsed": true
   },
   "outputs": [],
   "source": [
    "#change time format\n",
    "fraud['purchase_time']=pd.to_datetime(fraud['purchase_time'])\n",
    "fraud['signup_time']=pd.to_datetime(fraud['signup_time'])"
   ]
  },
  {
   "cell_type": "code",
   "execution_count": 5,
   "metadata": {
    "collapsed": true
   },
   "outputs": [],
   "source": [
    "#create a new variable that measures the time between account creation and purchase\n",
    "fraud['time_to_purchase']=fraud['purchase_time']-fraud['signup_time']\n",
    "fraud['time_to_purchase']=fraud['time_to_purchase'].dt.seconds"
   ]
  },
  {
   "cell_type": "code",
   "execution_count": 6,
   "metadata": {
    "collapsed": true
   },
   "outputs": [],
   "source": [
    "#convert IP addresses to their country of origin\n",
    "country_id=[]\n",
    "for i in fraud['ip_address']:\n",
    "    country_id.append(country_ip['country'][(i>=country_ip['lower_bound_ip_address']) \\\n",
    "                                            & (i<=country_ip['upper_bound_ip_address'])])"
   ]
  },
  {
   "cell_type": "code",
   "execution_count": 7,
   "metadata": {
    "collapsed": true
   },
   "outputs": [],
   "source": [
    "#convert Pandas Series from the previous step into list\n",
    "country_id_final=[]\n",
    "for i in range(0, len(country_id)):\n",
    "    if country_id[i].empty==False:\n",
    "        country_id_final.append(country_id[i].iloc[0])\n",
    "    else:\n",
    "        country_id_final.append(np.nan)\n",
    "fraud['country']=country_id_final"
   ]
  },
  {
   "cell_type": "code",
   "execution_count": 8,
   "metadata": {
    "collapsed": true
   },
   "outputs": [],
   "source": [
    "#create lists of the number of times devices and IP addresses were associated with purchases\n",
    "fraud['device_usage']=fraud['device_id'].map(fraud['device_id'].value_counts())\n",
    "fraud['ip_usage']=fraud['ip_address'].map(fraud['ip_address'].value_counts())"
   ]
  },
  {
   "cell_type": "code",
   "execution_count": 10,
   "metadata": {
    "collapsed": true
   },
   "outputs": [],
   "source": [
    "#choose which columns to use in our dataset\n",
    "cols_to_use=['purchase_value', 'source', 'browser', 'sex', 'age', 'time_to_purchase', 'country', 'device_usage', 'ip_usage']"
   ]
  },
  {
   "cell_type": "code",
   "execution_count": 11,
   "metadata": {
    "collapsed": true
   },
   "outputs": [],
   "source": [
    "#switch to numerical IDs of the values we want to use\n",
    "for i in cols_to_use:\n",
    "    if fraud[i].dtype=='object':\n",
    "        fraud[i+'_codes']=pd.Categorical(fraud[i]).codes\n",
    "        cols_to_use[cols_to_use.index(i)]=i+'_codes'"
   ]
  },
  {
   "cell_type": "code",
   "execution_count": 12,
   "metadata": {
    "collapsed": true
   },
   "outputs": [],
   "source": [
    "#create test and train datasets\n",
    "train,test=sklearn.model_selection.train_test_split(fraud, test_size=.2, stratify=fraud['class'])"
   ]
  },
  {
   "cell_type": "code",
   "execution_count": 13,
   "metadata": {
    "collapsed": true
   },
   "outputs": [],
   "source": [
    "#partition testing and training datasets for modelling\n",
    "train_X=train[cols_to_use]\n",
    "train_Y=train['class']\n",
    "test_X=test[cols_to_use]\n",
    "test_Y=test['class']"
   ]
  },
  {
   "cell_type": "code",
   "execution_count": 14,
   "metadata": {
    "collapsed": true
   },
   "outputs": [],
   "source": [
    "#try a logistic regression\n",
    "model=LogisticRegression()\n",
    "fit=model.fit(train_X, train_Y)"
   ]
  },
  {
   "cell_type": "code",
   "execution_count": 15,
   "metadata": {
    "collapsed": true
   },
   "outputs": [],
   "source": [
    "lreg_prediction=fit.predict(test_X)"
   ]
  },
  {
   "cell_type": "code",
   "execution_count": 16,
   "metadata": {
    "collapsed": false
   },
   "outputs": [
    {
     "data": {
      "text/html": [
       "<div>\n",
       "<table border=\"1\" class=\"dataframe\">\n",
       "  <thead>\n",
       "    <tr style=\"text-align: right;\">\n",
       "      <th></th>\n",
       "      <th>Pred -</th>\n",
       "      <th>Pred +</th>\n",
       "    </tr>\n",
       "  </thead>\n",
       "  <tbody>\n",
       "    <tr>\n",
       "      <th>Actual -</th>\n",
       "      <td>27283</td>\n",
       "      <td>110</td>\n",
       "    </tr>\n",
       "    <tr>\n",
       "      <th>Actual +</th>\n",
       "      <td>1392</td>\n",
       "      <td>1438</td>\n",
       "    </tr>\n",
       "  </tbody>\n",
       "</table>\n",
       "</div>"
      ],
      "text/plain": [
       "          Pred -  Pred +\n",
       "Actual -   27283     110\n",
       "Actual +    1392    1438"
      ]
     },
     "execution_count": 16,
     "metadata": {},
     "output_type": "execute_result"
    }
   ],
   "source": [
    "#check the confusion matrix\n",
    "pd.DataFrame(sklearn.metrics.confusion_matrix(test_Y, lreg_prediction), \\\n",
    "             columns=['Pred -', 'Pred +'], index=['Actual -', 'Actual +'])"
   ]
  },
  {
   "cell_type": "code",
   "execution_count": 17,
   "metadata": {
    "collapsed": false
   },
   "outputs": [
    {
     "name": "stdout",
     "output_type": "stream",
     "text": [
      "Logistic Regression Coefficients\n",
      "-0.0126433114369 purchase_value\n",
      "-0.00681250616596 source_codes\n",
      "-0.00990322503985 browser_codes\n",
      "-0.00282149388985 sex_codes\n",
      "-0.0535014846943 age\n",
      "-2.09611682956e-05 time_to_purchase\n",
      "-0.00228060037724 country_codes\n",
      "0.191836930879 device_usage\n",
      "0.180113785283 ip_usage\n"
     ]
    }
   ],
   "source": [
    "#check logistic regression coefficients\n",
    "print('Logistic Regression Coefficients')\n",
    "for i in range(0, len(test_X.keys())): print(fit.coef_[0][i], test_X.keys()[i])"
   ]
  },
  {
   "cell_type": "code",
   "execution_count": 18,
   "metadata": {
    "collapsed": true
   },
   "outputs": [],
   "source": [
    "#try a random forest prediction\n",
    "model=RandomForestClassifier(150, oob_score=True, n_jobs=-1)\n",
    "fit=model.fit(train_X, train_Y)\n",
    "RF_prediction=fit.predict(test_X)"
   ]
  },
  {
   "cell_type": "code",
   "execution_count": 19,
   "metadata": {
    "collapsed": false
   },
   "outputs": [
    {
     "data": {
      "text/html": [
       "<div>\n",
       "<table border=\"1\" class=\"dataframe\">\n",
       "  <thead>\n",
       "    <tr style=\"text-align: right;\">\n",
       "      <th></th>\n",
       "      <th>Pred -</th>\n",
       "      <th>Pred +</th>\n",
       "    </tr>\n",
       "  </thead>\n",
       "  <tbody>\n",
       "    <tr>\n",
       "      <th>Actual -</th>\n",
       "      <td>27349</td>\n",
       "      <td>44</td>\n",
       "    </tr>\n",
       "    <tr>\n",
       "      <th>Actual +</th>\n",
       "      <td>1298</td>\n",
       "      <td>1532</td>\n",
       "    </tr>\n",
       "  </tbody>\n",
       "</table>\n",
       "</div>"
      ],
      "text/plain": [
       "          Pred -  Pred +\n",
       "Actual -   27349      44\n",
       "Actual +    1298    1532"
      ]
     },
     "execution_count": 19,
     "metadata": {},
     "output_type": "execute_result"
    }
   ],
   "source": [
    "#check the confusion matrix again\n",
    "pd.DataFrame(sklearn.metrics.confusion_matrix(test_Y, RF_prediction), \\\n",
    "             columns=['Pred -', 'Pred +'], index=['Actual -', 'Actual +'])"
   ]
  },
  {
   "cell_type": "code",
   "execution_count": 20,
   "metadata": {
    "collapsed": false
   },
   "outputs": [
    {
     "name": "stdout",
     "output_type": "stream",
     "text": [
      "Random Forest Feature Weights\n",
      "0.0982602030595 purchase_value\n",
      "0.0117631246508 source_codes\n",
      "0.0232715143556 browser_codes\n",
      "0.0103312459691 sex_codes\n",
      "0.0814820919614 age\n",
      "0.392400417877 time_to_purchase\n",
      "0.0515329735745 country_codes\n",
      "0.15665205883 device_usage\n",
      "0.174306369722 ip_usage\n"
     ]
    }
   ],
   "source": [
    "#check the Random Forest Coefficients\n",
    "print('Random Forest Feature Weights')\n",
    "for i in range(0, len(test_X.keys())): print(fit.feature_importances_[i], test_X.keys()[i])"
   ]
  },
  {
   "cell_type": "code",
   "execution_count": null,
   "metadata": {
    "collapsed": true
   },
   "outputs": [],
   "source": []
  }
 ],
 "metadata": {
  "kernelspec": {
   "display_name": "Python 3",
   "language": "python",
   "name": "python3"
  },
  "language_info": {
   "codemirror_mode": {
    "name": "ipython",
    "version": 3
   },
   "file_extension": ".py",
   "mimetype": "text/x-python",
   "name": "python",
   "nbconvert_exporter": "python",
   "pygments_lexer": "ipython3",
   "version": "3.6.0"
  }
 },
 "nbformat": 4,
 "nbformat_minor": 2
}
